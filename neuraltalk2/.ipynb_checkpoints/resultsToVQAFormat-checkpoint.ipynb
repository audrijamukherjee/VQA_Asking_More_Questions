{
 "cells": [
  {
   "cell_type": "code",
   "execution_count": 4,
   "metadata": {
    "collapsed": false
   },
   "outputs": [
    {
     "name": "stdout",
     "output_type": "stream",
     "text": [
      "82783\n"
     ]
    }
   ],
   "source": [
    "results = open(\"../train2014Questions.txt\", \"r\")\n",
    "# results = open(\"../output_train_images.txt\", \"r\")\n",
    "# creating a list of dictionaries \n",
    "questions = []\n",
    "question = {}\n",
    "for idx,line in enumerate(results): \n",
    "    # first line in every 3 lines has the image ID\n",
    "    if (idx%3 == 0):\n",
    "        question = {}\n",
    "        question[\"image_id\"] = line[53:].split(\".jpg\")[0]\n",
    "    # second line has the question \n",
    "    if (idx%3 - 1 == 0):\n",
    "        question[\"question\"] = line.split(\":\")[1].strip() + \"?\"\n",
    "        question[\"question_id\"] = question[\"image_id\"] + \"007\"\n",
    "        #print(question)\n",
    "        questions.append(question)\n",
    "train = {\"questions\": questions}\n",
    "print(len(train['questions']))"
   ]
  },
  {
   "cell_type": "code",
   "execution_count": 5,
   "metadata": {
    "collapsed": false
   },
   "outputs": [],
   "source": [
    "import json\n",
    "with open('generated_questions_train_all.json', 'w') as f:\n",
    "     json.dump(train, f)"
   ]
  },
  {
   "cell_type": "code",
   "execution_count": 7,
   "metadata": {
    "collapsed": false
   },
   "outputs": [
    {
     "name": "stdout",
     "output_type": "stream",
     "text": [
      "{'image_id': '000000505879', 'question': 'what color is the bear?', 'question_id': '000000505879007'}\n"
     ]
    }
   ],
   "source": [
    "print(train['questions'][0])"
   ]
  },
  {
   "cell_type": "code",
   "execution_count": 9,
   "metadata": {
    "collapsed": false
   },
   "outputs": [
    {
     "name": "stdout",
     "output_type": "stream",
     "text": [
      "{u'image_id': u'000000505879', u'question': u'what color is the bear?', u'question_id': u'000000505879007'}\n",
      "{u'image_id': u'000000336350', u'question': u'what color is the umbrella?', u'question_id': u'000000336350007'}\n",
      "{u'image_id': u'000000027511', u'question': u'what color is the bus?', u'question_id': u'000000027511007'}\n",
      "{u'image_id': u'000000385146', u'question': u'what is the man doing?', u'question_id': u'000000385146007'}\n",
      "{u'image_id': u'000000242096', u'question': u'what is the elephant doing?', u'question_id': u'000000242096007'}\n",
      "{u'image_id': u'000000272255', u'question': u'what is the man holding?', u'question_id': u'000000272255007'}\n",
      "{u'image_id': u'000000544109', u'question': u'what is the man doing?', u'question_id': u'000000544109007'}\n",
      "{u'image_id': u'000000508809', u'question': u'what color is the umbrella?', u'question_id': u'000000508809007'}\n",
      "{u'image_id': u'000000097182', u'question': u'is the giraffe eating?', u'question_id': u'000000097182007'}\n",
      "{u'image_id': u'000000462449', u'question': u'what color is the train?', u'question_id': u'000000462449007'}\n",
      "{u'image_id': u'000000238402', u'question': u'what is the man doing?', u'question_id': u'000000238402007'}\n",
      "{u'image_id': u'000000018482', u'question': u'what is the man doing?', u'question_id': u'000000018482007'}\n",
      "{u'image_id': u'000000496552', u'question': u'is the water calm?', u'question_id': u'000000496552007'}\n",
      "{u'image_id': u'000000130206', u'question': u'what color is the toilet?', u'question_id': u'000000130206007'}\n",
      "{u'image_id': u'000000449369', u'question': u'what is the man doing?', u'question_id': u'000000449369007'}\n",
      "{u'image_id': u'000000425292', u'question': u'what is the horse eating?', u'question_id': u'000000425292007'}\n",
      "{u'image_id': u'000000392664', u'question': u'what color is the man s shirt?', u'question_id': u'000000392664007'}\n",
      "{u'image_id': u'000000498297', u'question': u'what is the dog doing?', u'question_id': u'000000498297007'}\n",
      "{u'image_id': u'000000494891', u'question': u'what color is the toilet?', u'question_id': u'000000494891007'}\n",
      "{u'image_id': u'000000438527', u'question': u'what color is the umbrella?', u'question_id': u'000000438527007'}\n",
      "{u'image_id': u'000000091264', u'question': u'what is the man doing?', u'question_id': u'000000091264007'}\n",
      "{u'image_id': u'000000409616', u'question': u'what color is the man s shirt?', u'question_id': u'000000409616007'}\n",
      "{u'image_id': u'000000468287', u'question': u'what color is the toilet?', u'question_id': u'000000468287007'}\n",
      "{u'image_id': u'000000230879', u'question': u'what color is the train?', u'question_id': u'000000230879007'}\n",
      "{u'image_id': u'000000121116', u'question': u'what color is the wall?', u'question_id': u'000000121116007'}\n",
      "{u'image_id': u'000000411178', u'question': u'what color is the wall?', u'question_id': u'000000411178007'}\n",
      "{u'image_id': u'000000207349', u'question': u'what color is the court?', u'question_id': u'000000207349007'}\n",
      "{u'image_id': u'000000433259', u'question': u'what is the man eating?', u'question_id': u'000000433259007'}\n",
      "{u'image_id': u'000000099025', u'question': u'what color is the bus?', u'question_id': u'000000099025007'}\n",
      "{u'image_id': u'000000562972', u'question': u'what is the elephant doing?', u'question_id': u'000000562972007'}\n"
     ]
    }
   ],
   "source": [
    "train = json.load(open('./generated_questions_train_all.json', 'r'))\n",
    "for i in range(0,30):\n",
    "    print(train['questions'][i])"
   ]
  },
  {
   "cell_type": "code",
   "execution_count": null,
   "metadata": {
    "collapsed": true
   },
   "outputs": [],
   "source": []
  }
 ],
 "metadata": {
  "anaconda-cloud": {},
  "kernelspec": {
   "display_name": "Python [conda env:py27]",
   "language": "python",
   "name": "conda-env-py27-py"
  },
  "language_info": {
   "codemirror_mode": {
    "name": "ipython",
    "version": 2
   },
   "file_extension": ".py",
   "mimetype": "text/x-python",
   "name": "python",
   "nbconvert_exporter": "python",
   "pygments_lexer": "ipython2",
   "version": "2.7.12"
  }
 },
 "nbformat": 4,
 "nbformat_minor": 1
}
