{
 "cells": [
  {
   "cell_type": "code",
   "execution_count": 1,
   "metadata": {
    "collapsed": false
   },
   "outputs": [
    {
     "ename": "IOError",
     "evalue": "[Errno 2] No such file or directory: 'v2_OpenEnded_mscoco_train2014_questions.json'",
     "output_type": "error",
     "traceback": [
      "\u001b[0;31m---------------------------------------------------------------------------\u001b[0m",
      "\u001b[0;31mIOError\u001b[0m                                   Traceback (most recent call last)",
      "\u001b[0;32m<ipython-input-1-7d6310c5515c>\u001b[0m in \u001b[0;36m<module>\u001b[0;34m()\u001b[0m\n\u001b[1;32m      1\u001b[0m \u001b[0;32mimport\u001b[0m \u001b[0mjson\u001b[0m\u001b[0;34m\u001b[0m\u001b[0m\n\u001b[1;32m      2\u001b[0m \u001b[0;31m# only load trianing data for now\u001b[0m\u001b[0;34m\u001b[0m\u001b[0;34m\u001b[0m\u001b[0m\n\u001b[0;32m----> 3\u001b[0;31m \u001b[0mtrain\u001b[0m \u001b[0;34m=\u001b[0m \u001b[0mjson\u001b[0m\u001b[0;34m.\u001b[0m\u001b[0mload\u001b[0m\u001b[0;34m(\u001b[0m\u001b[0mopen\u001b[0m\u001b[0;34m(\u001b[0m\u001b[0;34m'v2_OpenEnded_mscoco_train2014_questions.json'\u001b[0m\u001b[0;34m,\u001b[0m \u001b[0;34m'r'\u001b[0m\u001b[0;34m)\u001b[0m\u001b[0;34m)\u001b[0m\u001b[0;34m\u001b[0m\u001b[0m\n\u001b[0m\u001b[1;32m      4\u001b[0m \u001b[0;32mprint\u001b[0m \u001b[0mtrain\u001b[0m\u001b[0;34m[\u001b[0m\u001b[0;34m'questions'\u001b[0m\u001b[0;34m]\u001b[0m\u001b[0;34m[\u001b[0m\u001b[0;36m0\u001b[0m\u001b[0;34m]\u001b[0m\u001b[0;34m\u001b[0m\u001b[0m\n",
      "\u001b[0;31mIOError\u001b[0m: [Errno 2] No such file or directory: 'v2_OpenEnded_mscoco_train2014_questions.json'"
     ]
    }
   ],
   "source": [
    "import json\n",
    "# only load trianing data for now\n",
    "train = json.load(open('v2_OpenEnded_mscoco_train2014_questions.json', 'r'))\n",
    "print train['questions'][0]\n"
   ]
  },
  {
   "cell_type": "code",
   "execution_count": 2,
   "metadata": {
    "collapsed": false
   },
   "outputs": [
    {
     "ename": "NameError",
     "evalue": "name 'train' is not defined",
     "output_type": "error",
     "traceback": [
      "\u001b[0;31m---------------------------------------------------------------------------\u001b[0m",
      "\u001b[0;31mNameError\u001b[0m                                 Traceback (most recent call last)",
      "\u001b[0;32m<ipython-input-2-8aa56458d2b4>\u001b[0m in \u001b[0;36m<module>\u001b[0;34m()\u001b[0m\n\u001b[1;32m      1\u001b[0m \u001b[0mpartial_questions\u001b[0m \u001b[0;34m=\u001b[0m \u001b[0;34m{\u001b[0m\u001b[0;34m}\u001b[0m\u001b[0;34m\u001b[0m\u001b[0m\n\u001b[0;32m----> 2\u001b[0;31m \u001b[0;32mfor\u001b[0m \u001b[0mq\u001b[0m \u001b[0;32min\u001b[0m \u001b[0mtrain\u001b[0m\u001b[0;34m[\u001b[0m\u001b[0;34m'questions'\u001b[0m\u001b[0;34m]\u001b[0m\u001b[0;34m:\u001b[0m\u001b[0;34m\u001b[0m\u001b[0m\n\u001b[0m\u001b[1;32m      3\u001b[0m     \u001b[0mimgid\u001b[0m \u001b[0;34m=\u001b[0m \u001b[0mq\u001b[0m\u001b[0;34m[\u001b[0m\u001b[0;34m'image_id'\u001b[0m\u001b[0;34m]\u001b[0m\u001b[0;34m\u001b[0m\u001b[0m\n\u001b[1;32m      4\u001b[0m     \u001b[0;31m#print(type(imgid))\u001b[0m\u001b[0;34m\u001b[0m\u001b[0;34m\u001b[0m\u001b[0m\n\u001b[1;32m      5\u001b[0m     \u001b[0;32mif\u001b[0m \u001b[0mimgid\u001b[0m \u001b[0;32min\u001b[0m \u001b[0mpartial_questions\u001b[0m \u001b[0;32mand\u001b[0m \u001b[0mlen\u001b[0m\u001b[0;34m(\u001b[0m\u001b[0mpartial_questions\u001b[0m\u001b[0;34m[\u001b[0m\u001b[0mimgid\u001b[0m\u001b[0;34m]\u001b[0m\u001b[0;34m)\u001b[0m\u001b[0;34m<\u001b[0m\u001b[0;36m2\u001b[0m\u001b[0;34m:\u001b[0m\u001b[0;34m\u001b[0m\u001b[0m\n",
      "\u001b[0;31mNameError\u001b[0m: name 'train' is not defined"
     ]
    }
   ],
   "source": [
    "partial_questions = {}\n",
    "for q in train['questions']:\n",
    "    imgid = q['image_id']\n",
    "    #print(type(imgid))\n",
    "    if imgid in partial_questions and len(partial_questions[imgid])<2:\n",
    "        partial_questions[imgid].append(q['question'])\n",
    "    else:\n",
    "        partial_questions[imgid] = []\n",
    "        partial_questions[imgid].append(q['question'])\n",
    "print(len(partial_questions))"
   ]
  },
  {
   "cell_type": "code",
   "execution_count": 31,
   "metadata": {
    "collapsed": false
   },
   "outputs": [],
   "source": [
    "out = []\n",
    "for key in partial_questions:\n",
    "    jimg = {}\n",
    "    i=0 #just in case we have <3 questions\n",
    "    for one_question in partial_questions[key]:\n",
    "        jimg[\"image_id\"] = key\n",
    "        jimg[\"question\"] = one_question\n",
    "        jimg[\"question_id\"] = key*1000+i #Eg 458752001, 458752002, 458752003\n",
    "        #if key==262146:\n",
    "            #print jimg\n",
    "        out.append(jimg.copy())\n",
    "        i+=1\n",
    "#print out\n",
    "json.dump(out, open('partial_questions.json', 'w'))"
   ]
  },
  {
   "cell_type": "code",
   "execution_count": 14,
   "metadata": {
    "collapsed": false
   },
   "outputs": [
    {
     "name": "stdout",
     "output_type": "stream",
     "text": [
      "[{u'image_id': 458752, u'question': u'Is this man a professional baseball player?', u'question_id': 458752000}, {u'image_id': 262146, u'question': u'What color is the persons headwear?', u'question_id': 262146002}, {u'image_id': 262146, u'question': u'What color is the persons headwear?', u'question_id': 262146002}, {u'image_id': 262146, u'question': u'What color is the persons headwear?', u'question_id': 262146002}, {u'image_id': 524291, u'question': u'Is the dog looking at a tennis ball or frisbee?', u'question_id': 524291002}, {u'image_id': 524291, u'question': u'Is the dog looking at a tennis ball or frisbee?', u'question_id': 524291002}, {u'image_id': 524291, u'question': u'Is the dog looking at a tennis ball or frisbee?', u'question_id': 524291002}, {u'image_id': 393221, u'question': u'What is the white streak?', u'question_id': 393221002}, {u'image_id': 393221, u'question': u'What is the white streak?', u'question_id': 393221002}, {u'image_id': 393221, u'question': u'What is the white streak?', u'question_id': 393221002}, {u'image_id': 393223, u'question': u'Is she brushing?', u'question_id': 393223000}, {u'image_id': 393224, u'question': u'Is the man wearing a plain tie?', u'question_id': 393224002}, {u'image_id': 393224, u'question': u'Is the man wearing a plain tie?', u'question_id': 393224002}, {u'image_id': 393224, u'question': u'Is the man wearing a plain tie?', u'question_id': 393224002}, {u'image_id': 524297, u'question': u'Was this photo taken recently?', u'question_id': 524297000}, {u'image_id': 393227, u'question': u\"Is the man's visor providing his face enough protection?\", u'question_id': 393227001}, {u'image_id': 393227, u'question': u\"Is the man's visor providing his face enough protection?\", u'question_id': 393227001}, {u'image_id': 131084, u'question': u'What is the man riding on?', u'question_id': 131084002}, {u'image_id': 131084, u'question': u'What is the man riding on?', u'question_id': 131084002}, {u'image_id': 131084, u'question': u'What is the man riding on?', u'question_id': 131084002}, {u'image_id': 131074, u'question': u'Are the windows the same size?', u'question_id': 131074002}, {u'image_id': 131074, u'question': u'Are the windows the same size?', u'question_id': 131074002}, {u'image_id': 131074, u'question': u'Are the windows the same size?', u'question_id': 131074002}, {u'image_id': 393230, u'question': u'What is this person doing?', u'question_id': 393230000}]\n"
     ]
    }
   ],
   "source": [
    "temp = json.load(open('partial_questions.json', 'r'))\n",
    "print temp"
   ]
  },
  {
   "cell_type": "code",
   "execution_count": null,
   "metadata": {
    "collapsed": true
   },
   "outputs": [],
   "source": []
  }
 ],
 "metadata": {
  "anaconda-cloud": {},
  "kernelspec": {
   "display_name": "Python [conda env:py27]",
   "language": "python",
   "name": "conda-env-py27-py"
  },
  "language_info": {
   "codemirror_mode": {
    "name": "ipython",
    "version": 2
   },
   "file_extension": ".py",
   "mimetype": "text/x-python",
   "name": "python",
   "nbconvert_exporter": "python",
   "pygments_lexer": "ipython2",
   "version": "2.7.12"
  }
 },
 "nbformat": 4,
 "nbformat_minor": 2
}
