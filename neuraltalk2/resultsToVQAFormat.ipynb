{
 "cells": [
  {
   "cell_type": "code",
   "execution_count": 16,
   "metadata": {
    "collapsed": false
   },
   "outputs": [
    {
     "name": "stdout",
     "output_type": "stream",
     "text": [
      "81434\n"
     ]
    }
   ],
   "source": [
    "#results = open(\"../train2014Questions.txt\", \"r\")\n",
    "results = open(\"../test2015Questions.txt\", \"r\")\n",
    "# results = open(\"../output_train_images.txt\", \"r\")\n",
    "# creating a list of dictionaries \n",
    "questions = []\n",
    "question = {}\n",
    "for idx,line in enumerate(results): \n",
    "    # first line in every 3 lines has the image ID\n",
    "    if (idx%3 == 0):\n",
    "        question = {}\n",
    "        question[\"image_id\"] = line[57:].split(\".jpg\")[0]\n",
    "    # second line has the question \n",
    "    if (idx%3 - 1 == 0):\n",
    "        question[\"question\"] = line.split(\":\")[1].strip() + \"?\"\n",
    "        question[\"question_id\"] = question[\"image_id\"] + \"007\"\n",
    "        #print(question)\n",
    "        questions.append(question)\n",
    "train = {\"questions\": questions}\n",
    "print(len(train['questions']))"
   ]
  },
  {
   "cell_type": "code",
   "execution_count": 17,
   "metadata": {
    "collapsed": false
   },
   "outputs": [],
   "source": [
    "import json\n",
    "with open('generated_questions_test_all.json', 'w') as f:\n",
    "     json.dump(train, f)"
   ]
  },
  {
   "cell_type": "code",
   "execution_count": 18,
   "metadata": {
    "collapsed": false
   },
   "outputs": [
    {
     "name": "stdout",
     "output_type": "stream",
     "text": [
      "{'image_id': '000000346253', 'question': 'what is the man doing?', 'question_id': '000000346253007'}\n"
     ]
    }
   ],
   "source": [
    "print(train['questions'][0])"
   ]
  },
  {
   "cell_type": "code",
   "execution_count": 19,
   "metadata": {
    "collapsed": false
   },
   "outputs": [
    {
     "name": "stdout",
     "output_type": "stream",
     "text": [
      "{u'image_id': u'000000346253', u'question': u'what is the man doing?', u'question_id': u'000000346253007'}\n",
      "{u'image_id': u'000000108895', u'question': u'what is the man doing?', u'question_id': u'000000108895007'}\n",
      "{u'image_id': u'000000248646', u'question': u'what is the man doing?', u'question_id': u'000000248646007'}\n",
      "{u'image_id': u'000000159773', u'question': u'what color is the bat?', u'question_id': u'000000159773007'}\n",
      "{u'image_id': u'000000323088', u'question': u'what color is the toilet?', u'question_id': u'000000323088007'}\n",
      "{u'image_id': u'000000270352', u'question': u'what color is the fruit?', u'question_id': u'000000270352007'}\n",
      "{u'image_id': u'000000471012', u'question': u'is the tv on?', u'question_id': u'000000471012007'}\n",
      "{u'image_id': u'000000309006', u'question': u'what color is the sign?', u'question_id': u'000000309006007'}\n",
      "{u'image_id': u'000000299335', u'question': u'is the water calm?', u'question_id': u'000000299335007'}\n",
      "{u'image_id': u'000000367153', u'question': u'what color is the vase?', u'question_id': u'000000367153007'}\n",
      "{u'image_id': u'000000291937', u'question': u'what color is the man s shirt?', u'question_id': u'000000291937007'}\n",
      "{u'image_id': u'000000581525', u'question': u'what color is the hydrant?', u'question_id': u'000000581525007'}\n",
      "{u'image_id': u'000000028055', u'question': u'what color is the umbrella?', u'question_id': u'000000028055007'}\n",
      "{u'image_id': u'000000398328', u'question': u'what color is the dog?', u'question_id': u'000000398328007'}\n",
      "{u'image_id': u'000000390408', u'question': u'is the plane flying?', u'question_id': u'000000390408007'}\n",
      "{u'image_id': u'000000033065', u'question': u'what is the giraffe eating?', u'question_id': u'000000033065007'}\n",
      "{u'image_id': u'000000487896', u'question': u'what is the man doing?', u'question_id': u'000000487896007'}\n",
      "{u'image_id': u'000000334196', u'question': u'what is the bench made of?', u'question_id': u'000000334196007'}\n",
      "{u'image_id': u'000000302891', u'question': u'what color is the vase?', u'question_id': u'000000302891007'}\n",
      "{u'image_id': u'000000317170', u'question': u'what color is the vase?', u'question_id': u'000000317170007'}\n",
      "{u'image_id': u'000000408097', u'question': u'what is the man holding?', u'question_id': u'000000408097007'}\n",
      "{u'image_id': u'000000149168', u'question': u'what color is the sign?', u'question_id': u'000000149168007'}\n",
      "{u'image_id': u'000000070992', u'question': u'what is the man doing?', u'question_id': u'000000070992007'}\n",
      "{u'image_id': u'000000535479', u'question': u'is the sky clear?', u'question_id': u'000000535479007'}\n",
      "{u'image_id': u'000000200923', u'question': u'what is the man doing?', u'question_id': u'000000200923007'}\n",
      "{u'image_id': u'000000271816', u'question': u'what is the man doing?', u'question_id': u'000000271816007'}\n",
      "{u'image_id': u'000000545023', u'question': u'what is the man doing?', u'question_id': u'000000545023007'}\n",
      "{u'image_id': u'000000180854', u'question': u'is this a healthy meal?', u'question_id': u'000000180854007'}\n",
      "{u'image_id': u'000000007657', u'question': u'is the water calm?', u'question_id': u'000000007657007'}\n",
      "{u'image_id': u'000000362454', u'question': u'what is the man doing?', u'question_id': u'000000362454007'}\n"
     ]
    }
   ],
   "source": [
    "train = json.load(open('./generated_questions_test_all.json', 'r'))\n",
    "for i in range(0,30):\n",
    "    print(train['questions'][i])"
   ]
  },
  {
   "cell_type": "code",
   "execution_count": null,
   "metadata": {
    "collapsed": true
   },
   "outputs": [],
   "source": []
  }
 ],
 "metadata": {
  "anaconda-cloud": {},
  "kernelspec": {
   "display_name": "Python [conda env:py27]",
   "language": "python",
   "name": "conda-env-py27-py"
  },
  "language_info": {
   "codemirror_mode": {
    "name": "ipython",
    "version": 2
   },
   "file_extension": ".py",
   "mimetype": "text/x-python",
   "name": "python",
   "nbconvert_exporter": "python",
   "pygments_lexer": "ipython2",
   "version": "2.7.12"
  }
 },
 "nbformat": 4,
 "nbformat_minor": 1
}
